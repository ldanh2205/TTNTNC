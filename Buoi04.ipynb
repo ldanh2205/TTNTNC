{
 "cells": [
  {
   "cell_type": "markdown",
   "id": "0cfa247f-bf3f-4910-90dc-ae8ecb607964",
   "metadata": {},
   "source": [
    "# Buổi 4: Tìm kiếm trong không gian trạng thái"
   ]
  },
  {
   "cell_type": "markdown",
   "id": "48ace7ff-b7d1-4cf2-94da-a21d2d821112",
   "metadata": {},
   "source": [
    "### Bài 1. Biễu diễn đồ thị\n",
    "\n",
    "Cho đồ thị hàm số **G** (**V**, **E**) như bên dưới:\n",
    "\n",
    "![image](dothi.png)"
   ]
  },
  {
   "cell_type": "markdown",
   "id": "51164f9d-5d98-4361-b2c2-1fb23fd3704c",
   "metadata": {},
   "source": [
    "#### 1. Biễu diễn bằng danh sách / ma trận kề"
   ]
  },
  {
   "cell_type": "code",
   "execution_count": 6,
   "id": "8715cbf5-d144-479d-9bb3-eb0be736fa12",
   "metadata": {},
   "outputs": [
    {
     "name": "stdout",
     "output_type": "stream",
     "text": [
      "Danh sách kề (ADJ):\n",
      "A: {'E', 'F', 'D', 'C'}\n",
      "B: {}\n",
      "C: {'H'}\n",
      "D: {'E', 'H'}\n",
      "E: {'I', 'K'}\n",
      "F: {'G', 'I'}\n",
      "G: {}\n",
      "H: {'K'}\n",
      "I: {'B', 'K'}\n",
      "K: {'B'}\n",
      "\n",
      "Ma trận kề:\n",
      "    A  B  C  D  E  F  G  H  I  K\n",
      "A [0, 0, 1, 1, 1, 1, 0, 0, 0, 0]\n",
      "B [0, 0, 0, 0, 0, 0, 0, 0, 0, 0]\n",
      "C [0, 0, 0, 0, 0, 0, 0, 1, 0, 0]\n",
      "D [0, 0, 0, 0, 1, 0, 0, 1, 0, 0]\n",
      "E [0, 0, 0, 0, 0, 0, 0, 0, 1, 1]\n",
      "F [0, 0, 0, 0, 0, 0, 1, 0, 1, 0]\n",
      "G [0, 0, 0, 0, 0, 0, 0, 0, 0, 0]\n",
      "H [0, 0, 0, 0, 0, 0, 0, 0, 0, 1]\n",
      "I [0, 1, 0, 0, 0, 0, 0, 0, 0, 1]\n",
      "K [0, 1, 0, 0, 0, 0, 0, 0, 0, 0]\n"
     ]
    }
   ],
   "source": [
    "\"\"\" CÁC BẠN LÀM BÀI Ở ĐÂY \"\"\"\n",
    "# ...\n",
    "# Đọc danh sách kề từ file dske.txt\n",
    "# Tạo danh sách kề dựa trên hình dothi.png\n",
    "ADJ = {'A': {'C', 'E', 'D', 'F'},\n",
    " 'B': {},\n",
    " 'C': {'H'},\n",
    " 'D': {'H', 'E'},\n",
    " 'E': {'K', 'I'},\n",
    " 'F': {'I', 'G'},\n",
    " 'G': {},\n",
    " 'H': {'K'},\n",
    " 'I': {'B', 'K'},\n",
    " 'K': {'B'}}\n",
    "\n",
    "# In danh sách kề đã tạo\n",
    "print(\"Danh sách kề (ADJ):\")\n",
    "for node, neighbors in ADJ.items():\n",
    "    print(f\"{node}: {neighbors}\")\n",
    "nodes = sorted(ADJ.keys())  # sắp xếp A, B, C,...\n",
    "n = len(nodes)\n",
    "\n",
    "# Khởi tạo ma trận kề với giá trị 0\n",
    "adj_matrix = [[0]*n for _ in range(n)]\n",
    "\n",
    "# Tạo từ điển ánh xạ tên đỉnh sang chỉ số\n",
    "node_index = {node: i for i, node in enumerate(nodes)}\n",
    "\n",
    "# Điền ma trận kề\n",
    "for node, neighbors in ADJ.items():\n",
    "    for neighbor in neighbors:\n",
    "        i = node_index[node]\n",
    "        j = node_index[neighbor]\n",
    "        adj_matrix[i][j] = 1\n",
    "\n",
    "# In ma trận kề\n",
    "print(\"\\nMa trận kề:\")\n",
    "print(\"   \",\"  \".join(nodes))\n",
    "for i, row in enumerate(adj_matrix):\n",
    "    print(nodes[i], row)\n",
    "\n"
   ]
  },
  {
   "cell_type": "code",
   "execution_count": 7,
   "id": "44f952fc-0188-4215-823b-6efb1ba5622a",
   "metadata": {},
   "outputs": [
    {
     "name": "stdout",
     "output_type": "stream",
     "text": [
      "{'A': {'E', 'F', 'D', 'C'},\n",
      " 'B': {},\n",
      " 'C': {'H'},\n",
      " 'D': {'E', 'H'},\n",
      " 'E': {'I', 'K'},\n",
      " 'F': {'G', 'I'},\n",
      " 'G': {},\n",
      " 'H': {'K'},\n",
      " 'I': {'B', 'K'},\n",
      " 'K': {'B'}}\n"
     ]
    }
   ],
   "source": [
    "import pprint\n",
    "pprint.pprint(ADJ)"
   ]
  },
  {
   "cell_type": "markdown",
   "id": "c975f35c-f742-4ac2-be01-1fe53c94eadf",
   "metadata": {},
   "source": [
    "#### 2. Thao tác duyệt đồ thị\n",
    "(a) Liệt kê các đỉnh trong đồ thị <br/>\n",
    "(b) Liệt kê tất cả các cạnh đồ thị hiển thị dạng danh sách kề <br/>\n",
    "(c) Cho hai đỉnh A, B. Hỏi hai đỉnh A, B có kề nhau không? <br/>\n",
    "(d) Cho một đỉnh A. Hỏi danh sách các đỉnh kề với A <br/>"
   ]
  },
  {
   "cell_type": "code",
   "execution_count": 3,
   "id": "d286c1a6-ef93-4581-9f7e-96ea10020985",
   "metadata": {},
   "outputs": [
    {
     "name": "stdout",
     "output_type": "stream",
     "text": [
      "2. Thao tác duyệt đồ thị\n"
     ]
    }
   ],
   "source": [
    "print(\"2. Thao tác duyệt đồ thị\")"
   ]
  },
  {
   "cell_type": "code",
   "execution_count": 46,
   "id": "5faa6543-247a-4903-ba2a-9c1595af4f41",
   "metadata": {},
   "outputs": [
    {
     "name": "stdout",
     "output_type": "stream",
     "text": [
      "(a) Liệt kê các đỉnh trong đồ thị\n",
      "Các đỉnh của đồ thị:   ['A', 'B', 'C', 'D', 'E', 'F', 'G', 'H', 'I', 'K']\n",
      "Số lượng đỉnh: 10\n"
     ]
    }
   ],
   "source": [
    "print(\"(a) Liệt kê các đỉnh trong đồ thị\")\n",
    "print(\"Các đỉnh của đồ thị: \", end = \" \")\n",
    "\"\"\" CÁC BẠN LÀM BÀI Ở ĐÂY \"\"\"\n",
    "# ...\n",
    "# Liệt kê tất cả các đỉnh trong đồ thị\n",
    "nodes = list(ADJ.keys())\n",
    "print(\"\", nodes)\n",
    "\n",
    "# In ra số lượng đỉnh\n",
    "print(\"Số lượng đỉnh:\", len(nodes))"
   ]
  },
  {
   "cell_type": "code",
   "execution_count": 57,
   "id": "3df2151a-a327-4672-a7af-519084f4b044",
   "metadata": {},
   "outputs": [
    {
     "name": "stdout",
     "output_type": "stream",
     "text": [
      "(b) Liệt kê tất cả các cạnh đồ thị hiển thị dạng danh sách kề\n",
      "Danh sách kề của đồ thị: \n",
      "+ Đỉnh A: C, E, D, F\n",
      "+ Đỉnh B: \n",
      "+ Đỉnh C: H\n",
      "+ Đỉnh D: H, E\n",
      "+ Đỉnh E: K, I\n",
      "+ Đỉnh F: I, G\n",
      "+ Đỉnh G: \n",
      "+ Đỉnh H: K\n",
      "+ Đỉnh I: B, K\n",
      "+ Đỉnh K: B\n"
     ]
    }
   ],
   "source": [
    "print(\"(b) Liệt kê tất cả các cạnh đồ thị hiển thị dạng danh sách kề\")\n",
    "print(\"Danh sách kề của đồ thị: \")\n",
    "\n",
    "def HienThiDoThi(G):\n",
    "    for u in G:\n",
    "        # Ghép các đỉnh kề thành chuỗi, mỗi đỉnh cách nhau bởi dấu phẩy + khoảng trắng\n",
    "        neighbors_str = \", \".join(G[u])\n",
    "        # Nếu danh sách kề không rỗng thì thêm dấu phẩy ở cuối\n",
    "        #if neighbors_str:\n",
    "            #neighbors_str += \",\"\n",
    "        print(f\"+ Đỉnh {u}: {neighbors_str}\")\n",
    "\n",
    "HienThiDoThi(ADJ)\n"
   ]
  },
  {
   "cell_type": "code",
   "execution_count": null,
   "id": "4077c30a-c7be-4a44-93de-9ed446a6a368",
   "metadata": {},
   "outputs": [
    {
     "name": "stdout",
     "output_type": "stream",
     "text": [
      "(c) Cho hai đỉnh A, B. Hỏi hai đỉnh A, B có kề nhau không?\n"
     ]
    }
   ],
   "source": [
    "print(\"(c) Cho hai đỉnh A, B. Hỏi hai đỉnh A, B có kề nhau không?\")\n",
    "\n",
    "def LaKe(G, a, b, undirected=False):\n",
    "    \"\"\"\n",
    "    input: G, a, b\n",
    "    return: \n",
    "    + -1: dinh a, hay b khong ton tai\n",
    "    +  0: dinh a, b ton tai va a khong ke b\n",
    "    +  1: dinh a, b ton tai va a, b ke nhau\n",
    "    \"\"\"\n",
    "    \"\"\" CÁC BẠN LÀM BÀI Ở ĐÂY \"\"\"\n",
    "    # ...  \n",
    "    # kiểm tra tồn tại\n",
    "    if a not in G or b not in G:\n",
    "        return -1\n",
    "\n",
    "    if undirected:\n",
    "        return 1 if (b in G[a] or a in G[b]) else 0\n",
    "    else:\n",
    "        return 1 if (b in G[a]) else 0\n",
    "    "
   ]
  },
  {
   "cell_type": "code",
   "execution_count": 48,
   "id": "0e90a761-8354-460a-a451-1cbb97b9b6b8",
   "metadata": {},
   "outputs": [
    {
     "name": "stdout",
     "output_type": "stream",
     "text": [
      "L ke R: -1\n",
      "A ke R: -1\n",
      "E ke D: 0\n",
      "D ke E: 1\n"
     ]
    }
   ],
   "source": [
    "a = \"L\"; b = \"R\"; print(f\"{a} ke {b}: {LaKe(ADJ, a, b)}\")\n",
    "a = \"A\"; b = \"R\"; print(f\"{a} ke {b}: {LaKe(ADJ, a, b)}\")\n",
    "a = \"E\"; b = \"D\"; print(f\"{a} ke {b}: {LaKe(ADJ, a, b)}\")\n",
    "a = \"D\"; b = \"E\"; print(f\"{a} ke {b}: {LaKe(ADJ, a, b)}\")"
   ]
  },
  {
   "cell_type": "code",
   "execution_count": 8,
   "id": "41048b4b-9311-470f-9c0f-2bcb5b062587",
   "metadata": {},
   "outputs": [
    {
     "name": "stdout",
     "output_type": "stream",
     "text": [
      "(d) Cho một đỉnh A. Hỏi danh sách các đỉnh kề với A\n",
      "Danh sach ke voi dinh P: None\n",
      "Danh sach ke voi dinh A: {'E', 'F', 'D', 'C'}\n",
      "Danh sach ke voi dinh B: {}\n",
      "Danh sach ke voi dinh D: {'E', 'H'}\n"
     ]
    }
   ],
   "source": [
    "print(\"(d) Cho một đỉnh A. Hỏi danh sách các đỉnh kề với A\")\n",
    "\n",
    "def LayKe(G, a):\n",
    "    \"\"\"\n",
    "    input: G, a\n",
    "    return: \n",
    "    + None: neu a khong ton tai\n",
    "    + []  : a khong ke voi bat ky dinh nao\n",
    "    + [x, y, ...]: mang cac dinh ke voi a\n",
    "    \"\"\"\n",
    "    result = None\n",
    "    \n",
    "    \"\"\" CÁC BẠN LÀM BÀI Ở ĐÂY \"\"\"\n",
    "    # ...\n",
    "    if a not in G:\n",
    "        return None\n",
    "    return G[a]\n",
    "    \n",
    "    #return result\n",
    "\n",
    "a = \"P\"; print(f\"Danh sach ke voi dinh {a}: {LayKe(ADJ, a)}\")\n",
    "a = \"A\"; print(f\"Danh sach ke voi dinh {a}: {LayKe(ADJ, a)}\")\n",
    "a = \"B\"; print(f\"Danh sach ke voi dinh {a}: {LayKe(ADJ, a)}\")\n",
    "a = \"D\"; print(f\"Danh sach ke voi dinh {a}: {LayKe(ADJ, a)}\")"
   ]
  },
  {
   "cell_type": "markdown",
   "id": "465a8fdb-f10f-47a9-91ab-1b23598fda4f",
   "metadata": {},
   "source": [
    "#### 3. Đọc và lưu đồ thị\n",
    "**dske.txt**\n",
    "```\n",
    "10           # số đỉnh đồ thị\n",
    "A C E F D    # đỉnh A kề với C E F D\n",
    "B            # đỉnh B không kề với ai\n",
    "C H\n",
    "D E H\n",
    "E K I\n",
    "F I G\n",
    "G\n",
    "H K\n",
    "I K B\n",
    "K B\n",
    "```"
   ]
  },
  {
   "cell_type": "code",
   "execution_count": null,
   "id": "a71b385f-d571-4d94-88f1-427527c23653",
   "metadata": {},
   "outputs": [
    {
     "name": "stdout",
     "output_type": "stream",
     "text": [
      "1. Lưu đồ thị xuống tập tin\n",
      "Luu do thi thanh cong xuong tap tin: dske1.txt\n",
      "10\n",
      "A C E D F\n",
      "B\n",
      "C H\n",
      "D H E\n",
      "E K I\n",
      "F I G\n",
      "G\n",
      "H K\n",
      "I B K\n",
      "K B\n"
     ]
    }
   ],
   "source": [
    "print(\"1. Lưu đồ thị xuống tập tin\")\n",
    "\n",
    "def LuuDoThi(G, file_path, verbose=True):\n",
    "    import os\n",
    "    \n",
    "    # Tạo thư mục chứa file_path\n",
    "    file_dir = os.path.dirname(file_path)\n",
    "    if file_dir != \"\" and not os.path.exists(file_dir):\n",
    "        os.makedirs(file_dir)\n",
    "        if verbose: \n",
    "            print(f\"+ Tao thu muc: {file_dir}\")\n",
    "    \n",
    "    # Lưu đồ thị\n",
    "    with open(file_path, \"wt\", encoding=\"utf-8\") as file:\n",
    "        # Dòng đầu tiên: số lượng đỉnh\n",
    "        file.write(str(len(G)) + \"\\n\")\n",
    "        \n",
    "        # Duyệt từng đỉnh theo thứ tự key (giữ thứ tự đẹp)\n",
    "        for vertex, neighbors in G.items():\n",
    "            if neighbors:  # có đỉnh kề\n",
    "                file.write(f\"{vertex} \" + \" \".join(neighbors) + \"\\n\")\n",
    "            else:  # không có đỉnh kề\n",
    "                file.write(f\"{vertex}\\n\")\n",
    "        \n",
    "        if verbose: \n",
    "            print(f\"Luu do thi thanh cong xuong tap tin: {file_path}\")\n",
    "    pass\n",
    "\n",
    "\n",
    "\n",
    "ADJ = {'A': {'C', 'E', 'D', 'F'},\n",
    " 'B': {},\n",
    " 'C': {'H'},\n",
    " 'D': {'H', 'E'},\n",
    " 'E': {'K', 'I'},\n",
    " 'F': {'I', 'G'},\n",
    " 'G': {},\n",
    " 'H': {'K'},\n",
    " 'I': {'B', 'K'},\n",
    " 'K': {'B'}}\n",
    "\n",
    "LuuDoThi(ADJ, \"dske1.txt\", verbose=True)\n",
    "\n",
    "# Đọc lại file để kiểm tra\n",
    "with open(\"dske1.txt\", \"rt\", encoding=\"utf-8\") as file:\n",
    "    lines = file.readlines()\n",
    "    for line in lines: \n",
    "        print(line, end=\"\")\n"
   ]
  },
  {
   "cell_type": "code",
   "execution_count": 51,
   "id": "b30921dc-fb94-44a5-907f-0d66340757a0",
   "metadata": {},
   "outputs": [
    {
     "name": "stdout",
     "output_type": "stream",
     "text": [
      "2. Đọc đồ thị từ tập tin\n",
      "Đọc đồ thị thành công từ tập tin: dske1.txt\n",
      "{'A': ['C', 'E', 'D', 'F'],\n",
      " 'B': [],\n",
      " 'C': ['H'],\n",
      " 'D': ['H', 'E'],\n",
      " 'E': ['K', 'I'],\n",
      " 'F': ['I', 'G'],\n",
      " 'G': [],\n",
      " 'H': ['K'],\n",
      " 'I': ['B', 'K'],\n",
      " 'K': ['B']}\n"
     ]
    }
   ],
   "source": [
    "print(\"2. Đọc đồ thị từ tập tin\")\n",
    "import pprint\n",
    "import os\n",
    "\n",
    "def DocDoThi(file_path, verbose=True):\n",
    "    \"\"\"\n",
    "    Đọc đồ thị từ file danh sách kề.\n",
    "    return:\n",
    "    + None: nếu file không tồn tại\n",
    "    + dict: {đỉnh: [các đỉnh kề]}\n",
    "    \"\"\"\n",
    "    if not os.path.exists(file_path):\n",
    "        if verbose:\n",
    "            print(f\"File {file_path} không tồn tại!\")\n",
    "        return None\n",
    "    \n",
    "    G = {}\n",
    "    with open(file_path, \"rt\") as file:\n",
    "        n = int(file.readline().strip())   # số lượng đỉnh\n",
    "        for line in file:\n",
    "            parts = line.strip().split()\n",
    "            if len(parts) > 0:\n",
    "                node = parts[0]            # đỉnh\n",
    "                neighbors = parts[1:]      # danh sách kề\n",
    "                G[node] = neighbors        # giữ nguyên list để bảo toàn thứ tự\n",
    "    \n",
    "    if verbose:\n",
    "        print(f\"Đọc đồ thị thành công từ tập tin: {file_path}\")\n",
    "    return G\n",
    "\n",
    "# Gọi thử\n",
    "G1 = DocDoThi(\"dske1.txt\", verbose=True)\n",
    "pprint.pprint(G1)\n"
   ]
  },
  {
   "cell_type": "markdown",
   "id": "8197f40f-69af-489d-80b5-124c91427db6",
   "metadata": {},
   "source": [
    "### Bài 2. Tìm kiếm đường đi trên đồ thị"
   ]
  },
  {
   "cell_type": "markdown",
   "id": "43f12303-9ee9-4404-9ecb-f00a5f78e4ee",
   "metadata": {},
   "source": [
    "#### 1. Tìm kiếm theo chiều rộng (BFS)"
   ]
  },
  {
   "cell_type": "code",
   "execution_count": 42,
   "id": "1910f300-4094-4d69-b009-a9d4ea0fb27b",
   "metadata": {},
   "outputs": [],
   "source": [
    "import pprint\n",
    "\n",
    "def BFS(G, start, goal):\n",
    "    \"\"\"\n",
    "    return: \n",
    "    + mang chua duong di tu a --> b, neu rong la ko co duong di\n",
    "    + None: dinh a, b khong hop le\n",
    "    \"\"\"\n",
    "    result = None\n",
    "    \n",
    "    if G.get(start) is None or G.get(goal) is None:\n",
    "        result = None\n",
    "    else:\n",
    "        path = {}     # path[parent] = child\n",
    "        s_open   = []\n",
    "        s_closed = []\n",
    "        \n",
    "        # đưa start vào open\n",
    "        s_open.append(start)    \n",
    "        path[start] = None\n",
    "\n",
    "        while len(s_open) > 0:\n",
    "            u = s_open.pop(0)   # lấy phần tử đầu tiên trong queue\n",
    "            s_closed.append(u)\n",
    "\n",
    "            # duyệt tất cả đỉnh kề của u\n",
    "            for v in G[u]:\n",
    "                if v not in path:        # nếu chưa được duyệt\n",
    "                    path[v] = u          # ghi nhận cha của v là u\n",
    "                    s_open.append(v)     # đưa vào open\n",
    "                    if v == goal:        # nếu gặp goal thì dừng\n",
    "                        return path\n",
    "        return path\n",
    "    \n",
    "    return result\n"
   ]
  },
  {
   "cell_type": "code",
   "execution_count": 52,
   "id": "ed7e6ed1-ae75-4183-8cb2-0e4eae606144",
   "metadata": {},
   "outputs": [
    {
     "name": "stdout",
     "output_type": "stream",
     "text": [
      "{'A': None,\n",
      " 'B': 'K',\n",
      " 'C': 'A',\n",
      " 'D': 'A',\n",
      " 'E': 'A',\n",
      " 'F': 'A',\n",
      " 'G': 'F',\n",
      " 'H': 'C',\n",
      " 'I': 'E',\n",
      " 'K': 'E'}\n"
     ]
    }
   ],
   "source": [
    "path = BFS(ADJ, \"A\", \"B\")\n",
    "pprint.pprint(path)"
   ]
  },
  {
   "cell_type": "code",
   "execution_count": 53,
   "id": "cd05574f-d2fa-4f71-80b2-1f9c5b45f945",
   "metadata": {},
   "outputs": [],
   "source": [
    "def find_path(path, start, goal):\n",
    "    \"\"\"\n",
    "    Cho mảng truy hồi đường đi, tìm danh sách đỉnh từ start --> goal\n",
    "    \"\"\"\n",
    "    result = []\n",
    "\n",
    "    if path is None:\n",
    "        return result\n",
    "    \n",
    "    if goal not in path:\n",
    "        return result\n",
    "    \n",
    "    # lần ngược từ goal về start\n",
    "    current = goal\n",
    "    while current is not None:\n",
    "        result.append(current)\n",
    "        current = path.get(current)\n",
    "    \n",
    "    # lật ngược lại để đi từ start -> goal\n",
    "    result.reverse()\n",
    "    \n",
    "    # nếu không bắt đầu bằng start thì không có đường đi hợp lệ\n",
    "    if result[0] != start:\n",
    "        return []\n",
    "    \n",
    "    return result\n"
   ]
  },
  {
   "cell_type": "code",
   "execution_count": 54,
   "id": "50a093aa-283b-4623-9428-a0631e37328b",
   "metadata": {},
   "outputs": [
    {
     "data": {
      "text/plain": [
       "['A', 'E', 'K', 'B']"
      ]
     },
     "execution_count": 54,
     "metadata": {},
     "output_type": "execute_result"
    }
   ],
   "source": [
    "find_path(path, 'A', 'B')"
   ]
  },
  {
   "cell_type": "markdown",
   "id": "16085819-733d-4f95-a32d-aa52c5e35a6e",
   "metadata": {},
   "source": [
    "#### 2. Tìm kiếm theo chiều rộng (DFS)"
   ]
  },
  {
   "cell_type": "code",
   "execution_count": 60,
   "id": "50ebc7cd-f093-4d06-852c-e6c903e27864",
   "metadata": {},
   "outputs": [],
   "source": [
    "import pprint\n",
    "\n",
    "def DFS(G, start, goal):\n",
    "    if G.get(start) is None or G.get(goal) is None:\n",
    "        return None\n",
    "    \n",
    "    path = {}\n",
    "    s_open   = []\n",
    "    s_closed = []\n",
    "    \n",
    "    s_open.append(start)    \n",
    "    path[start] = None\n",
    "    \n",
    "    while len(s_open) > 0:\n",
    "        current = s_open.pop()\n",
    "        if current not in s_closed:\n",
    "            s_closed.append(current)\n",
    "            \n",
    "            # duyệt tất cả neighbor\n",
    "            for neighbor in G[current]:\n",
    "                if neighbor not in path:     \n",
    "                    path[neighbor] = current\n",
    "                    s_open.append(neighbor)\n",
    "    \n",
    "    return path"
   ]
  },
  {
   "cell_type": "code",
   "execution_count": 61,
   "id": "8177518a-8ffc-4a29-be9c-90375367793a",
   "metadata": {},
   "outputs": [
    {
     "name": "stdout",
     "output_type": "stream",
     "text": [
      "{'A': None,\n",
      " 'B': 'I',\n",
      " 'C': 'A',\n",
      " 'D': 'A',\n",
      " 'E': 'A',\n",
      " 'F': 'A',\n",
      " 'G': 'F',\n",
      " 'H': 'D',\n",
      " 'I': 'F',\n",
      " 'K': 'I'}\n"
     ]
    }
   ],
   "source": [
    "path = DFS(ADJ, \"A\", \"B\")\n",
    "pprint.pprint(path)"
   ]
  },
  {
   "cell_type": "markdown",
   "id": "d037e84a-1f8c-4388-89f6-9b1e105140da",
   "metadata": {},
   "source": [
    "# Kết thúc"
   ]
  }
 ],
 "metadata": {
  "kernelspec": {
   "display_name": "Python 3",
   "language": "python",
   "name": "python3"
  },
  "language_info": {
   "codemirror_mode": {
    "name": "ipython",
    "version": 3
   },
   "file_extension": ".py",
   "mimetype": "text/x-python",
   "name": "python",
   "nbconvert_exporter": "python",
   "pygments_lexer": "ipython3",
   "version": "3.13.0"
  }
 },
 "nbformat": 4,
 "nbformat_minor": 5
}
