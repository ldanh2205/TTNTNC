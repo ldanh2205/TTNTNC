{
 "cells": [
  {
   "cell_type": "markdown",
   "metadata": {},
   "source": [
    "# Search: Solving a Maze Using a Goal-based Agent\n",
    "\n",
    "Student Name: [Add your name]\n",
    "\n",
    "I have used the following AI tools: [list tools]\n",
    "\n",
    "I understand that my submission needs to be my own work: [your initials]"
   ]
  },
  {
   "cell_type": "markdown",
   "metadata": {},
   "source": [
    "## Learning Outcomes\n",
    "\n",
    "* Formulate search problems using key components like initial state, actions, and goal state in a deterministic, fully observable environment.\n",
    "* Implement and compare search algorithms including BFS, DFS, GBFS, A*, and IDS for planning paths through mazes.\n",
    "* Analyze algorithm performance by measuring path cost, node expansions, depth, and memory usage across various maze types.\n",
    "* Use visualization tools to represent maze paths and support debugging and analysis."
   ]
  },
  {
   "cell_type": "markdown",
   "metadata": {},
   "source": [
    "## Instructions\n",
    "\n",
    "Total Points: Undergrads 100 + 5 bonus / Graduate students 110\n",
    "\n",
    "Complete this notebook. Use the provided notebook cells and insert additional code and markdown cells as needed. Submit the notebook file and the completely rendered notebook with all outputs as a HTML file. \n",
    "\n",
    "\n",
    "## Introduction\n",
    "\n",
    "In this exercise, we will implement the planning function for a type of goal-based agent called a __planning agent__. The planning function uses a map it is given to plan a path through the maze from the starting location $S$ to the goal location $G$. We will only focus on the planning function, so you do not need to implement an environment, just use the map to search for a path to solve the maze. \n",
    "\n",
    "Once the plan is made, the agent in a deterministic environment (i.e., the transition function is deterministic with the outcome of each state/action pair fixed and no randomness) can just follow the plan step-by-step and does not need to care about the percepts.\n",
    "This is also called an **[open-loop system](https://en.wikipedia.org/wiki/Open-loop_controller).**\n",
    "The execution phase is trivial and can be executed using a model-based reflex agent \n",
    "that ignores all percepts and just follows the plan. I will show you a short example, but you do not implement it in this exercise.\n",
    "\n",
    "Given that the agent has a complete and correct map, the environment is **fully observable, discrete, deterministic, and known.** \n",
    "Remember:\n",
    "\n",
    "* **Fully observable** means that the agent can see its state and what the available actions are. That means the **percepts contain the complete current state.**\n",
    "Here, during planning, the agent always sees its x and y coordinates on the map and\n",
    "also seeks when it has reached the goal state. \n",
    "* **Discrete** means that we have a **finite set of states.** The maze has a finite set \n",
    "of squares the agent can be in.\n",
    "* **Deterministic** means that the **transition function contains no randomness.** An action in a state will always produce the same result. Going south from the start state always will lead to the same square.\n",
    "* **Know** means that the agent **knows the complete transition function.** The \n",
    "agent has the map and therefore knows how its position changes when it walks in a direction.\n",
    "\n",
    "Tree search algorithm implementations that you find online typically come from data structures courses and have a different aim than AI tree search. These algorithms assume that you already have a tree in memory. We are interested in dynamically creating a search tree with the aim of finding a good/the best path from the root note to the goal state. Follow the pseudo code presented in the text book (and replicated in the slides) closely. Ideally, we would like to search only a small part of the maze, i.e., create a search tree with as few nodes as possible. \n",
    "\n",
    "Several mazes for this exercise are stored as text files. Here is the small example maze:"
   ]
  },
  {
   "cell_type": "code",
   "execution_count": 1,
   "metadata": {},
   "outputs": [
    {
     "name": "stdout",
     "output_type": "stream",
     "text": [
      "XXXXXXXXXXXXXXXXXXXXXX\n",
      "X XX        X X      X\n",
      "X    XXXXXX X XXXXXX X\n",
      "XXXXXX     S  X      X\n",
      "X    X XXXXXX XX XXXXX\n",
      "X XXXX X         X   X\n",
      "X        XXX XXX   X X\n",
      "XXXXXXXXXX    XXXXXX X\n",
      "XG         XX        X\n",
      "XXXXXXXXXXXXXXXXXXXXXX\n",
      "\n"
     ]
    }
   ],
   "source": [
    "with open(\"small_maze.txt\", \"r\") as f:\n",
    "    maze_str = f.read()\n",
    "print(maze_str)"
   ]
  },
  {
   "cell_type": "markdown",
   "metadata": {},
   "source": [
    "**Note:** If you get an error here that the file cannot be found, then you need to download it. See [HOWTO Work on Assignments.](https://github.com/mhahsler/CS7320-AI/blob/master/HOWTOs/working_on_assignments.md)"
   ]
  },
  {
   "cell_type": "markdown",
   "metadata": {},
   "source": [
    "## Parsing and pretty printing the maze\n",
    "\n",
    "The maze can also be displayed in color using code in the module [maze_helper.py](maze_helper.py). The code parses the string representing the maze and converts it into a `numpy` 2d array which you can use in your implementation. Position are represented as a 2-tuple of the form `(row, col)`. "
   ]
  },
  {
   "cell_type": "code",
   "execution_count": 2,
   "metadata": {
    "tags": []
   },
   "outputs": [
    {
     "name": "stdout",
     "output_type": "stream",
     "text": [
      "Position(0,0): X\n",
      "Position(8,1): G\n"
     ]
    }
   ],
   "source": [
    "import maze_helper as mh\n",
    "\n",
    "maze = mh.parse_maze(maze_str)\n",
    "\n",
    "# look at a position in the maze by subsetting the 2d array\n",
    "print(\"Position(0,0):\", maze[0, 0])\n",
    "\n",
    "# there is also a helper function called `look(maze, pos)` available\n",
    "# which uses a 2-tuple for the position.\n",
    "print(\"Position(8,1):\", mh.look(maze, (8, 1)))"
   ]
  },
  {
   "cell_type": "markdown",
   "metadata": {},
   "source": [
    "A helper function to visualize the maze is also available."
   ]
  },
  {
   "cell_type": "code",
   "execution_count": 3,
   "metadata": {},
   "outputs": [
    {
     "data": {
      "image/png": "[encoded data removed]",
      "text/plain": [
       "<Figure size 640x480 with 1 Axes>"
      ]
     },
     "metadata": {
      "image/png": {
       "height": 269,
       "width": 534
      }
     },
     "output_type": "display_data"
    }
   ],
   "source": [
    "%matplotlib inline\n",
    "%config InlineBackend.figure_format = 'retina'\n",
    "# use higher resolution images in notebooks\n",
    "\n",
    "mh.show_maze(maze)"
   ]
  },
  {
   "cell_type": "markdown",
   "metadata": {},
   "source": [
    "Find the `(x,y)` position of the start and the goal using the helper function `find_pos()`"
   ]
  },
  {
   "cell_type": "code",
   "execution_count": 4,
   "metadata": {},
   "outputs": [
    {
     "name": "stdout",
     "output_type": "stream",
     "text": [
      "Start location: (np.int64(3), np.int64(11))\n",
      "Goal location: (np.int64(8), np.int64(1))\n"
     ]
    }
   ],
   "source": [
    "print(\"Start location:\", mh.find_pos(maze, what = \"S\"))\n",
    "print(\"Goal location:\", mh.find_pos(maze, what = \"G\"))"
   ]
  },
  {
   "cell_type": "markdown",
   "metadata": {},
   "source": [
    "Helper function documentation."
   ]
  },
  {
   "cell_type": "code",
   "execution_count": 5,
   "metadata": {},
   "outputs": [
    {
     "name": "stdout",
     "output_type": "stream",
     "text": [
      "Help on module maze_helper:\n",
      "\n",
      "NAME\n",
      "    maze_helper\n",
      "\n",
      "DESCRIPTION\n",
      "    Code for the Maze Assignment by Michael Hahsler\n",
      "    Usage:\n",
      "        import maze_helper as mh\n",
      "        mh.show_some_mazes()\n",
      "\n",
      "FUNCTIONS\n",
      "    animate_maze(result, repeat=False)\n",
      "        Build an animation from a list of mazes. Assumes that results has the elements:\n",
      "        path, reached, actions and maze_anim with a list of maze arrays.\n",
      "\n",
      "    find_pos(maze, what='S')\n",
      "        Find start/goal in a maze and returns the first one.\n",
      "        Caution: there is no error checking!\n",
      "\n",
      "        Parameters:\n",
      "        maze: a array with characters prodced by parse_maze()\n",
      "        what: the letter to be found ('S' for start and 'G' for goal)\n",
      "\n",
      "        Returns:\n",
      "        a tupple (x, y) for the found position.\n",
      "\n",
      "    look(maze, pos)\n",
      "        Look at the label of a square with the position as an array of the form (x, y).\n",
      "\n",
      "    maze_to_matrix(maze)\n",
      "        convert a maze a numeric numpy array for visualization via imshow.\n",
      "\n",
      "    parse_maze(maze_str)\n",
      "        Convert a maze as a string into a 2d numpy array\n",
      "\n",
      "    show_maze(maze, fontsize=10)\n",
      "        Display a (parsed) maze as an image.\n",
      "\n",
      "    welcome()\n",
      "        Welcome message.\n",
      "\n",
      "FILE\n",
      "    c:\\users\\dell\\desktop\\new folder (2)\\cs7320-ai\\search\\maze_helper.py\n",
      "\n",
      "\n"
     ]
    }
   ],
   "source": [
    "help(mh)"
   ]
  },
  {
   "cell_type": "markdown",
   "metadata": {},
   "source": [
    "You will need to make a local copy of the module file [maze_helper.py](maze_helper.py) in the same folder where your notebook is."
   ]
  },
  {
   "cell_type": "markdown",
   "metadata": {},
   "source": [
    "## An Example for a Planning Agent\n",
    "\n",
    "I will show you here how to implement a simple agent that uses a random plan. It will not solve the maze, but show you how the mechanics work.\n",
    "\n",
    "First, we define a generic planning agent that fist plans, and then executes the plan step-by-step. "
   ]
  },
  {
   "cell_type": "code",
   "execution_count": 6,
   "metadata": {},
   "outputs": [],
   "source": [
    "class Planning_Agent:\n",
    "    def __init__(self, maze, start, goal, planning_function):\n",
    "        self.maze = maze\n",
    "        self.start = start\n",
    "        self.goal = goal\n",
    "        self.planning_function = planning_function\n",
    "        self.plan = None\n",
    "        self.progress = None\n",
    "\n",
    "    def act(self):\n",
    "        # plan if no plan exists\n",
    "        if self.plan is None:\n",
    "            print(\"Planning...\")\n",
    "            self.plan = self.planning_function(self.maze, self.start, self.goal)\n",
    "            self.progress = 0\n",
    "        \n",
    "        # check if plan is completed\n",
    "        if self.progress >= len(self.plan):        \n",
    "            raise Exception(\"Completed Plan. No more planned actions\")\n",
    "        \n",
    "        # follow the plan\n",
    "        action = self.plan[self.progress]\n",
    "        print(f\"Following plan... step {self.progress}: {action}\")\n",
    "\n",
    "        self.progress += 1\n",
    "        return action"
   ]
  },
  {
   "cell_type": "markdown",
   "metadata": {},
   "source": [
    "Next, we define the planning function. This function is what you will implement in this assignment.  "
   ]
  },
  {
   "cell_type": "code",
   "execution_count": 7,
   "metadata": {},
   "outputs": [
    {
     "data": {
      "text/plain": [
       "['E', 'N', 'S', 'N', 'W', 'E', 'E', 'N', 'S', 'N']"
      ]
     },
     "execution_count": 7,
     "metadata": {},
     "output_type": "execute_result"
    }
   ],
   "source": [
    "import numpy as np\n",
    "\n",
    "def plan_random(maze, start, goal):\n",
    "    \"\"\"Create a random plan with 10 steps\"\"\"\n",
    "    plan = np.random.choice([\"N\", \"E\", \"S\", \"W\"], size=10, replace=True).tolist()\n",
    "    return plan\n",
    "\n",
    "plan_random(maze, (1,1), (8,8))"
   ]
  },
  {
   "cell_type": "markdown",
   "metadata": {},
   "source": [
    "This planning function is not great and will not produce a plan that solves the maze. Your planning functions will do better.\n",
    "\n",
    "Finally, we can create the planning agent, give it the planning function and implement a simple environment that asks it 11 times for an action."
   ]
  },
  {
   "cell_type": "code",
   "execution_count": 8,
   "metadata": {},
   "outputs": [
    {
     "name": "stdout",
     "output_type": "stream",
     "text": [
      "Planning...\n",
      "Following plan... step 0: N\n",
      "Following plan... step 1: N\n",
      "Following plan... step 2: S\n",
      "Following plan... step 3: E\n",
      "Following plan... step 4: N\n",
      "Following plan... step 5: S\n",
      "Following plan... step 6: N\n",
      "Following plan... step 7: S\n",
      "Following plan... step 8: W\n",
      "Following plan... step 9: E\n",
      "Agent exception: Completed Plan. No more planned actions\n"
     ]
    }
   ],
   "source": [
    "my_agent = Planning_Agent(maze, mh.find_pos(maze, what = \"S\"), mh.find_pos(maze, what = \"G\"), plan_random)\n",
    "\n",
    "def environment(agent_function, steps):\n",
    "    for _ in range(steps):\n",
    "        try:\n",
    "            agent_function()\n",
    "        except Exception as e:\n",
    "            print(f\"Agent exception: {e}\")\n",
    "\n",
    "environment(my_agent.act, steps=11)"
   ]
  },
  {
   "cell_type": "markdown",
   "metadata": {},
   "source": [
    "Note: The agent and environment implementation above is just an illustration. You will only implement and experiment with different versions of the planning function."
   ]
  },
  {
   "cell_type": "markdown",
   "metadata": {},
   "source": [
    "## Tree structure\n",
    "\n",
    "To use tree search, you will need to implement a tree data structure in Python. \n",
    "Here is an implementation of the basic node structure for the search algorithms (see Fig 3.7 on page 73). I have added a method that extracts the path from the root node to the current node. It can be used to get the path when the search is completed."
   ]
  },
  {
   "cell_type": "code",
   "execution_count": 9,
   "metadata": {},
   "outputs": [],
   "source": [
    "class Node:\n",
    "    def __init__(self, pos, parent, action, cost):\n",
    "        self.pos = tuple(pos)    # the state; positions are (row,col)\n",
    "        self.parent = parent     # reference to parent node. None means root node.\n",
    "        self.action = action     # action used in the transition function (root node has None)\n",
    "        self.cost = cost         # for uniform cost this is the depth. It is also g(n) for A* search\n",
    "\n",
    "    def __str__(self):\n",
    "        return f\"Node - pos = {self.pos}; action = {self.action}; cost = {self.cost}\"\n",
    "    \n",
    "    def get_path_from_root(self):\n",
    "        \"\"\"returns nodes on the path from the root to the current node.\"\"\"\n",
    "        node = self\n",
    "        path = [node]\n",
    "    \n",
    "        while not node.parent is None:\n",
    "            node = node.parent\n",
    "            path.append(node)\n",
    "        \n",
    "        path.reverse()\n",
    "        \n",
    "        return(path)"
   ]
  },
  {
   "cell_type": "markdown",
   "metadata": {},
   "source": [
    "If needed, then you can add more fields to the class like the heuristic value $h(n)$ or $f(n)$.\n",
    "\n",
    "Examples for how to create and use a tree and information on memory management can be found [here](../HOWTOs/trees.ipynb)."
   ]
  },
  {
   "cell_type": "markdown",
   "metadata": {},
   "source": [
    "# Tasks\n",
    "\n",
    "The goal is to:\n",
    "\n",
    "1. Implement the following search algorithms for solving different mazes:\n",
    "\n",
    "    - Breadth-first search (BFS)\n",
    "    - Depth-first search (DFS)\n",
    "    - Greedy best-first search (GBFS)\n",
    "    - A* search\n",
    "\n",
    "2. Run each of the above algorithms on the \n",
    "    - [small maze](small_maze.txt), \n",
    "    - [medium maze](medium_maze.txt), \n",
    "    - [large maze](large_maze.txt), \n",
    "    - [open maze](open_maze.txt),\n",
    "    - [wall maze](wall_maze.txt),\n",
    "    - [loops maze](loops_maze.txt),\n",
    "    - [empty maze](empty_maze.txt), and\n",
    "    - [empty 2_maze](empty_2_maze.txt).\n",
    "    \n",
    "3. For each problem instance and each search algorithm, report the following in a table:\n",
    "\n",
    "    - The solution and its path cost\n",
    "    - Total number of nodes expanded\n",
    "    - Maximum tree depth\n",
    "    - Maximum size of the frontier\n",
    "\n",
    "4. Display each solution by marking every maze square (or state) visited and the squares on the final path.\n",
    "\n",
    "## General [10 Points]\n",
    "\n",
    "1. Make sure that you use the latest version of this notebook.\n",
    "2. Your implementation can use libraries like math, numpy, scipy, but not libraries that implement intelligent agents or complete search algorithms. Try to keep the code simple! In this course, we want to learn about the algorithms and we often do not need to use object-oriented design.\n",
    "3. You notebook needs to be formatted professionally. \n",
    "    - Add additional markdown blocks for your description, comments in the code, add tables and use mathplotlib to produce charts where appropriate\n",
    "    - Do not show debugging output or include an excessive amount of output.\n",
    "    - Check that your submitted file is readable and contains all figures.\n",
    "4. Document your code. Use comments in the code and add a discussion of how your implementation works and your design choices."
   ]
  },
  {
   "cell_type": "markdown",
   "metadata": {},
   "source": [
    "## Task 1: Defining the search problem and determining the problem size [10 Points]\n",
    "\n",
    "Define the components of the search problem:\n",
    "\n",
    "* Initial state\n",
    "* Actions\n",
    "* Transition model\n",
    "* Goal state\n",
    "* Path cost\n",
    "\n",
    "Use verbal descriptions, variables and equations as appropriate. \n",
    "\n",
    "*Note:* You can swich the next block from code to Markdown and use formating."
   ]
  },
  {
   "cell_type": "markdown",
   "metadata": {},
   "source": [
    "## Task 1: Xác định bài toán tìm kiếm và ước lượng kích thước\n",
    "\n",
    "### Các thành phần của bài toán tìm kiếm\n",
    "\n",
    "- **Trạng thái ban đầu (Initial state):**  \n",
    "  Agent bắt đầu tại vị trí xuất phát S (tọa độ hàng, cột).\n",
    "\n",
    "- **Hành động (Actions):**  \n",
    "  Các hành động hợp lệ mà agent có thể thực hiện: đi lên, đi xuống, đi sang trái, đi sang phải.  \n",
    "  Nếu được phép, có thể mở rộng thêm đi chéo.\n",
    "\n",
    "- **Mô hình chuyển trạng thái (Transition model):**  \n",
    "  Nếu agent đang ở trạng thái (x, y) và thực hiện một hành động hợp lệ, thì sẽ chuyển sang một trạng thái mới (x', y') miễn là ô đó không phải tường và nằm trong phạm vi mê cung.  \n",
    "  Ví dụ: từ (x, y) đi sang trái thì thành (x, y-1).\n",
    "\n",
    "- **Trạng thái đích (Goal state):**  \n",
    "  Vị trí G mà agent cần đến để thoát mê cung.\n",
    "\n",
    "- **Chi phí đường đi (Path cost):**  \n",
    "  Tổng số bước di chuyển từ S đến G.  \n",
    "  Mỗi bước di chuyển có chi phí bằng 1, nên path cost chính là độ dài đường đi."
   ]
  },
  {
   "cell_type": "code",
   "execution_count": null,
   "metadata": {},
   "outputs": [],
   "source": [
    "# Your answer goes here\n"
   ]
  },
  {
   "cell_type": "markdown",
   "metadata": {},
   "source": [
    "Give some estimates for the problem size:\n",
    "\n",
    "* $n$: state space size\n",
    "* $d$: depth of the optimal solution\n",
    "* $m$: maximum depth of tree\n",
    "* $b$: maximum branching factor\n",
    "\n",
    "Describe how you would determin these values for a given maze."
   ]
  },
  {
   "cell_type": "markdown",
   "metadata": {},
   "source": [
    "### Ước lượng kích thước bài toán\n",
    "\n",
    "- **n (kích thước không gian trạng thái):**  \n",
    "  Là số ô trống trong mê cung (không phải tường).  \n",
    "  Có thể tính bằng cách duyệt toàn bộ mê cung và đếm số ô có thể đi được.\n",
    "\n",
    "- **d (độ sâu nghiệm tối ưu):**  \n",
    "  Là số bước đi trong đường đi ngắn nhất từ S đến G.  \n",
    "  Có thể tính chính xác bằng thuật toán BFS (với chi phí mỗi bước bằng 1).  \n",
    "  Nếu không tìm thấy đường đi thì d = vô hạn.\n",
    "\n",
    "- **m (độ sâu tối đa của cây tìm kiếm):**  \n",
    "  Là độ dài đường đi dài nhất có thể trong cây tìm kiếm (không lặp lại trạng thái).  \n",
    "  Giới hạn trên: m ≤ n - 1 (vì không thể đi qua nhiều hơn số ô trống).  \n",
    "  Với mê cung nhỏ có thể tìm gần đúng bằng DFS/backtracking, với mê cung lớn thì chỉ dùng ước lượng.\n",
    "\n",
    "- **b (hệ số phân nhánh tối đa):**  \n",
    "  Là số hành động tối đa có thể thực hiện từ một trạng thái.  \n",
    "  Với di chuyển 4 hướng thì b ≤ 4.  \n",
    "  Có thể xác định bằng cách duyệt qua từng ô trống, đếm số ô kề có thể đi tới, rồi lấy giá trị lớn nhất."
   ]
  },
  {
   "cell_type": "code",
   "execution_count": 85,
   "metadata": {},
   "outputs": [],
   "source": [
    "# Your answer goes here"
   ]
  },
  {
   "cell_type": "markdown",
   "metadata": {},
   "source": [
    "## Task 2: Uninformed search: Breadth-first and depth-first [40 Points]\n",
    "\n",
    "Implement these search strategies. Follow the pseudocode in the textbook/slides. You can use the tree structure shown above to extract the final path from your solution.\n",
    "\n",
    "Read the following **important notes** carefully:\n",
    "* You can find maze solving implementations online that use the map to store information. While this is an effective idea for this two-dimensional navigation problem, it typically cannot be used for other search problems. Therefore, follow the textbook and **do not store information in the map.** Only store information in the tree created during search, and use the `reached` and `frontier` data structures where appropriate.\n",
    "* DSF behavior can be implemented using the BFS tree search algorithm and simply changing the order in which the frontier is expanded (this is equivalent to best-first search with path length as the criterion to expand the next node). However, this would be a big mistake since it combines the bad space complexity of BFS with the bad time complexity of DFS! **To take advantage of the significantly smaller memory footprint of DFS, you need to implement DFS in a different way without a `reached` data structure (often also called `visited` or `explored`) and by releasing the memory for nodes that are not needed anymore.**\n",
    "* Since the proper implementation of DFS does not use a `reached` data structure, redundant path checking abilities are limited to cycle checking. \n",
    "You need to implement **cycle checking since DSF is incomplete (produces an infinite loop) if cycles cannot be prevented.** You will see in your experiments that cycle checking in open spaces is challenging."
   ]
  },
  {
   "cell_type": "code",
   "execution_count": 10,
   "metadata": {},
   "outputs": [],
   "source": [
    "class Maze:\n",
    "    def __init__(self, grid, start, goal):\n",
    "        self.grid = grid              # ma trận: 0 = đường, 1 = tường\n",
    "        self.start = start            # tọa độ bắt đầu (x, y)\n",
    "        self.goal = goal              # tọa độ đích (x, y)\n",
    "        self.nrows = len(grid)        # số hàng\n",
    "        self.ncols = len(grid[0])     # số cột\n",
    "\n",
    "    def is_wall(self, x, y):\n",
    "        return self.grid[x][y] == 1   # kiểm tra có phải tường\n",
    "\n",
    "    def show(self):\n",
    "        for i in range(self.nrows):\n",
    "            row = \"\"\n",
    "            for j in range(self.ncols):\n",
    "                if (i, j) == self.start:\n",
    "                    row += \"S \"\n",
    "                elif (i, j) == self.goal:\n",
    "                    row += \"G \"\n",
    "                elif self.grid[i][j] == 1:\n",
    "                    row += \"# \"\n",
    "                else:\n",
    "                    row += \". \"\n",
    "            print(row)\n",
    "\n",
    "    def show_path(self, path):\n",
    "        path_set = set(path)\n",
    "        for i in range(self.nrows):\n",
    "            row = \"\"\n",
    "            for j in range(self.ncols):\n",
    "                if (i, j) == self.start:\n",
    "                    row += \"S \"\n",
    "                elif (i, j) == self.goal:\n",
    "                    row += \"G \"\n",
    "                elif (i, j) in path_set:\n",
    "                    row += \"o \"\n",
    "                elif self.grid[i][j] == 1:\n",
    "                    row += \"# \"\n",
    "                else:\n",
    "                    row += \". \"\n",
    "            print(row)\n"
   ]
  },
  {
   "cell_type": "code",
   "execution_count": 15,
   "metadata": {},
   "outputs": [
    {
     "name": "stdout",
     "output_type": "stream",
     "text": [
      "Start: (3, 11) Goal: (8, 1)\n"
     ]
    },
    {
     "data": {
      "image/png": "[encoded data removed]",
      "text/plain": [
       "<Figure size 640x480 with 1 Axes>"
      ]
     },
     "metadata": {
      "image/png": {
       "height": 269,
       "width": 534
      }
     },
     "output_type": "display_data"
    },
    {
     "name": "stdout",
     "output_type": "stream",
     "text": [
      "BFS path length: 20\n",
      "DFS path length: 50\n",
      "=== BFS Result ===\n"
     ]
    },
    {
     "data": {
      "image/png": "[encoded data removed]",
      "text/plain": [
       "<Figure size 640x480 with 1 Axes>"
      ]
     },
     "metadata": {
      "image/png": {
       "height": 269,
       "width": 534
      }
     },
     "output_type": "display_data"
    },
    {
     "name": "stdout",
     "output_type": "stream",
     "text": [
      "=== DFS Result ===\n"
     ]
    },
    {
     "data": {
      "image/png": "[encoded data removed]",
      "text/plain": [
       "<Figure size 640x480 with 1 Axes>"
      ]
     },
     "metadata": {
      "image/png": {
       "height": 269,
       "width": 534
      }
     },
     "output_type": "display_data"
    }
   ],
   "source": [
    "import maze_helper as mh\n",
    "from collections import deque\n",
    "import numpy as np\n",
    "\n",
    "# ==== HÀM HỖ TRỢ ====\n",
    "\n",
    "# Lấy các hàng xóm hợp lệ (không phải tường)\n",
    "def get_neighbors(state, maze):\n",
    "    x, y = state\n",
    "    moves = [(1,0), (-1,0), (0,1), (0,-1)]  # 4 hướng\n",
    "    neighbors = []\n",
    "    for dx, dy in moves:\n",
    "        nx, ny = x + dx, y + dy\n",
    "        if 0 <= nx < maze.shape[0] and 0 <= ny < maze.shape[1]:\n",
    "            if maze[nx, ny] != \"X\":   # không phải tường\n",
    "                neighbors.append((nx, ny))\n",
    "    return neighbors\n",
    "\n",
    "def is_goal(state, goal):\n",
    "    return state == goal\n",
    "\n",
    "# Đánh dấu đường đi trên maze để hiển thị\n",
    "def mark_path(maze, path):\n",
    "    maze_copy = np.copy(maze)\n",
    "    for (x, y) in path[1:-1]:  # bỏ start và goal\n",
    "        maze_copy[x, y] = \"P\"\n",
    "    return maze_copy\n",
    "\n",
    "# ==== BFS ====\n",
    "def bfs(initial_state, goal_test, successors):\n",
    "    frontier = deque([initial_state])\n",
    "    reached = {initial_state}\n",
    "    parent = {initial_state: None}\n",
    "\n",
    "    while frontier:\n",
    "        state = frontier.popleft()\n",
    "        if goal_test(state):\n",
    "            # reconstruct path\n",
    "            path = []\n",
    "            while state is not None:\n",
    "                path.append(state)\n",
    "                state = parent[state]\n",
    "            return list(reversed(path))\n",
    "\n",
    "        for child in successors(state):\n",
    "            if child not in reached:\n",
    "                reached.add(child)\n",
    "                parent[child] = state\n",
    "                frontier.append(child)\n",
    "    return None\n",
    "\n",
    "# ==== DFS ====\n",
    "def dfs(initial_state, goal_test, successors, max_depth=1000):\n",
    "    stack = [(initial_state, [initial_state])]\n",
    "\n",
    "    while stack:\n",
    "        state, path = stack.pop()\n",
    "        if goal_test(state):\n",
    "            return path\n",
    "\n",
    "        if len(path) < max_depth:\n",
    "            for child in successors(state):\n",
    "                if child not in path:  # tránh chu kỳ\n",
    "                    stack.append((child, path + [child]))\n",
    "    return None\n",
    "\n",
    "\n",
    "# ==== CHẠY VỚI MAZE CÓ SẴN ====\n",
    "\n",
    "# 1. Đọc maze từ file txt\n",
    "with open(\"small_maze.txt\", \"r\") as f:\n",
    "    maze_str = f.read()\n",
    "maze = mh.parse_maze(maze_str)\n",
    "\n",
    "# 2. Xác định start và goal\n",
    "start = tuple(map(int, mh.find_pos(maze, \"S\")))\n",
    "goal = tuple(map(int, mh.find_pos(maze, \"G\")))\n",
    "\n",
    "\n",
    "print(\"Start:\", start, \"Goal:\", goal)\n",
    "mh.show_maze(maze)\n",
    "\n",
    "# 3. Chạy BFS và DFS\n",
    "path_bfs = bfs(start, lambda s: is_goal(s, goal), lambda s: get_neighbors(s, maze))\n",
    "path_dfs = dfs(start, lambda s: is_goal(s, goal), lambda s: get_neighbors(s, maze))\n",
    "\n",
    "print(\"BFS path length:\", len(path_bfs) if path_bfs else None)\n",
    "print(\"DFS path length:\", len(path_dfs) if path_dfs else None)\n",
    "\n",
    "# 4. Hiển thị kết quả\n",
    "if path_bfs:\n",
    "    print(\"=== BFS Result ===\")\n",
    "    mh.show_maze(mark_path(maze, path_bfs))\n",
    "\n",
    "if path_dfs:\n",
    "    print(\"=== DFS Result ===\")\n",
    "    mh.show_maze(mark_path(maze, path_dfs))\n"
   ]
  },
  {
   "cell_type": "markdown",
   "metadata": {},
   "source": [
    "How does BFS and DFS (without a reached data structure) deal with loops (cycles)?"
   ]
  },
  {
   "cell_type": "code",
   "execution_count": 87,
   "metadata": {},
   "outputs": [],
   "source": [
    "# Discussion"
   ]
  },
  {
   "cell_type": "markdown",
   "metadata": {},
   "source": [
    "Discussion:\n",
    "\n",
    "- BFS nếu không dùng reached (visited) sẽ có thể thêm cùng một trạng thái nhiều lần vào frontier. Trong đồ thị hoặc mê cung có vòng lặp, BFS sẽ lặp vô tận và không bao giờ dừng.\n",
    "\n",
    "- DFS nếu không có reached cũng dễ bị vòng lặp hơn, vì DFS đi sâu xuống một nhánh. Nếu gặp chu kỳ thì DFS có thể bị kẹt trong vòng lặp vô hạn.\n",
    "\n",
    "- Cách khắc phục: \n",
    "  + Với BFS thường dùng reached để ghi nhớ các node đã thăm. \n",
    "  + Với DFS có thể kiểm tra chu kỳ trong path hiện tại để không quay lại node đã thăm.\n"
   ]
  },
  {
   "cell_type": "markdown",
   "metadata": {},
   "source": [
    "Are your implementations complete and optimal? Explain why. What is the time and space complexity of each of **your** implementations? Especially discuss the difference in space complexity between BFS and DFS."
   ]
  },
  {
   "cell_type": "code",
   "execution_count": 88,
   "metadata": {},
   "outputs": [],
   "source": [
    "# Discussion"
   ]
  },
  {
   "cell_type": "markdown",
   "metadata": {},
   "source": [
    "Discussion:\n",
    "\n",
    "- BFS:\n",
    "  + Complete (nếu có lời giải thì chắc chắn tìm ra).\n",
    "  + Optimal khi chi phí mỗi bước = 1, vì nó tìm được lời giải ngắn nhất.\n",
    "  + Time complexity: O(b^d), với b là branching factor, d là độ sâu nghiệm tối ưu.\n",
    "  + Space complexity: O(b^d), phải lưu toàn bộ frontier và reached.\n",
    "\n",
    "- DFS:\n",
    "  + Không complete trong đồ thị có chu kỳ (có thể bị kẹt vô hạn). Nếu đồ thị hữu hạn và có kiểm tra chu kỳ thì complete.\n",
    "  + Không optimal, vì có thể tìm ra lời giải dài hơn trong khi tồn tại lời giải ngắn hơn.\n",
    "  + Time complexity: O(b^m), với m là độ sâu tối đa của cây tìm kiếm.\n",
    "  + Space complexity: O(b*m), chỉ cần lưu đường đi hiện tại và vài node, nên tiết kiệm bộ nhớ hơn BFS.\n",
    "\n",
    "- So sánh:\n",
    "  + BFS: đảm bảo tìm lời giải ngắn nhất nhưng tốn nhiều bộ nhớ.\n",
    "  + DFS: tiết kiệm bộ nhớ, nhưng không đảm bảo optimal và có thể không complete nếu không xử lý chu kỳ.\n"
   ]
  },
  {
   "cell_type": "markdown",
   "metadata": {},
   "source": [
    "## Task 3: Informed search: Implement greedy best-first search and A* search  [20 Points]\n",
    "\n",
    "You can use the map to estimate the distance from your current position to the goal using the Manhattan distance (see https://en.wikipedia.org/wiki/Taxicab_geometry) as a heuristic function. Both algorithms are based on Best-First search which requires only a small change from the BFS algorithm you have already implemented (see textbook/slides). "
   ]
  },
  {
   "cell_type": "code",
   "execution_count": 16,
   "metadata": {},
   "outputs": [
    {
     "name": "stdout",
     "output_type": "stream",
     "text": [
      "Start: (3, 11) Goal: (8, 1)\n"
     ]
    },
    {
     "data": {
      "image/png": "[encoded data removed]",
      "text/plain": [
       "<Figure size 640x480 with 1 Axes>"
      ]
     },
     "metadata": {
      "image/png": {
       "height": 269,
       "width": 534
      }
     },
     "output_type": "display_data"
    },
    {
     "name": "stdout",
     "output_type": "stream",
     "text": [
      "Greedy Best-First path length: 30\n",
      "A* path length: 20\n",
      "=== Greedy Best-First ===\n"
     ]
    },
    {
     "data": {
      "image/png": "[encoded data removed]",
      "text/plain": [
       "<Figure size 640x480 with 1 Axes>"
      ]
     },
     "metadata": {
      "image/png": {
       "height": 269,
       "width": 534
      }
     },
     "output_type": "display_data"
    },
    {
     "name": "stdout",
     "output_type": "stream",
     "text": [
      "=== A* Search ===\n"
     ]
    },
    {
     "data": {
      "image/png": "[encoded data removed]",
      "text/plain": [
       "<Figure size 640x480 with 1 Axes>"
      ]
     },
     "metadata": {
      "image/png": {
       "height": 269,
       "width": 534
      }
     },
     "output_type": "display_data"
    }
   ],
   "source": [
    "# Your code goes here\n",
    "# ==== 1. Import và hàm từ maze_helper ====\n",
    "import maze_helper as mh\n",
    "import numpy as np\n",
    "import heapq\n",
    "\n",
    "# ==== 2. Các hàm hỗ trợ ====\n",
    "\n",
    "# Heuristic Manhattan\n",
    "def manhattan_distance(a, b):\n",
    "    return abs(a[0] - b[0]) + abs(a[1] - b[1])\n",
    "\n",
    "# Sinh các trạng thái con\n",
    "def get_neighbors(state, maze):\n",
    "    x, y = state\n",
    "    moves = [(1,0), (-1,0), (0,1), (0,-1)]\n",
    "    neighbors = []\n",
    "    for dx, dy in moves:\n",
    "        nx, ny = x + dx, y + dy\n",
    "        if 0 <= nx < maze.shape[0] and 0 <= ny < maze.shape[1]:\n",
    "            if maze[nx, ny] != \"X\":  # không phải tường\n",
    "                neighbors.append((nx, ny))\n",
    "    return neighbors\n",
    "\n",
    "# Đánh dấu đường đi trên maze để hiển thị\n",
    "def mark_path(maze, path):\n",
    "    maze_copy = np.copy(maze)\n",
    "    for (x, y) in path[1:-1]:  # bỏ start và goal\n",
    "        maze_copy[x, y] = \"P\"\n",
    "    return maze_copy\n",
    "\n",
    "# ==== 3. Greedy Best-First Search ====\n",
    "def greedy_best_first(start, goal, successors):\n",
    "    frontier = []\n",
    "    heapq.heappush(frontier, (manhattan_distance(start, goal), start))\n",
    "    parent = {start: None}\n",
    "    reached = {start}\n",
    "\n",
    "    while frontier:\n",
    "        _, state = heapq.heappop(frontier)\n",
    "        if state == goal:\n",
    "            # reconstruct path\n",
    "            path = []\n",
    "            while state is not None:\n",
    "                path.append(state)\n",
    "                state = parent[state]\n",
    "            return list(reversed(path))\n",
    "\n",
    "        for child in successors(state):\n",
    "            if child not in reached:\n",
    "                reached.add(child)\n",
    "                parent[child] = state\n",
    "                heapq.heappush(frontier, (manhattan_distance(child, goal), child))\n",
    "    return None\n",
    "\n",
    "# ==== 4. A* Search ====\n",
    "def a_star(start, goal, successors):\n",
    "    frontier = []\n",
    "    heapq.heappush(frontier, (manhattan_distance(start, goal), 0, start))\n",
    "    parent = {start: None}\n",
    "    g_cost = {start: 0}\n",
    "\n",
    "    while frontier:\n",
    "        f, g, state = heapq.heappop(frontier)\n",
    "        if state == goal:\n",
    "            # reconstruct path\n",
    "            path = []\n",
    "            while state is not None:\n",
    "                path.append(state)\n",
    "                state = parent[state]\n",
    "            return list(reversed(path))\n",
    "\n",
    "        for child in successors(state):\n",
    "            new_g = g + 1  # mỗi bước cost = 1\n",
    "            if child not in g_cost or new_g < g_cost[child]:\n",
    "                g_cost[child] = new_g\n",
    "                parent[child] = state\n",
    "                f = new_g + manhattan_distance(child, goal)\n",
    "                heapq.heappush(frontier, (f, new_g, child))\n",
    "    return None\n",
    "\n",
    "# ==== 5. Load maze có sẵn ====\n",
    "with open(\"small_maze.txt\", \"r\") as f:\n",
    "    maze_str = f.read()\n",
    "maze = mh.parse_maze(maze_str)\n",
    "\n",
    "start = tuple(map(int, mh.find_pos(maze, \"S\")))\n",
    "goal = tuple(map(int, mh.find_pos(maze, \"G\")))\n",
    "\n",
    "print(\"Start:\", start, \"Goal:\", goal)\n",
    "mh.show_maze(maze)\n",
    "\n",
    "# ==== 6. Chạy Greedy và A* ====\n",
    "path_greedy = greedy_best_first(start, goal, lambda s: get_neighbors(s, maze))\n",
    "path_astar = a_star(start, goal, lambda s: get_neighbors(s, maze))\n",
    "\n",
    "print(\"Greedy Best-First path length:\", len(path_greedy) if path_greedy else None)\n",
    "print(\"A* path length:\", len(path_astar) if path_astar else None)\n",
    "\n",
    "# ==== 7. Hiển thị kết quả ====\n",
    "if path_greedy:\n",
    "    print(\"=== Greedy Best-First ===\")\n",
    "    mh.show_maze(mark_path(maze, path_greedy))\n",
    "\n",
    "if path_astar:\n",
    "    print(\"=== A* Search ===\")\n",
    "    mh.show_maze(mark_path(maze, path_astar))\n"
   ]
  },
  {
   "cell_type": "markdown",
   "metadata": {},
   "source": [
    "Are your implementations complete and optimal? What is the time and space complexity?"
   ]
  },
  {
   "cell_type": "code",
   "execution_count": 90,
   "metadata": {},
   "outputs": [],
   "source": [
    "# Discussion"
   ]
  },
  {
   "cell_type": "markdown",
   "metadata": {},
   "source": [
    "Discussion:\n",
    "\n",
    "- Greedy Best-First Search:\n",
    "  + Complete: không hoàn chỉnh, có thể bị kẹt nếu heuristic dẫn sai hướng.\n",
    "  + Optimal: không đảm bảo tối ưu.\n",
    "  + Time complexity: O(b^m) trong trường hợp xấu, nhưng thực tế thường nhanh hơn BFS.\n",
    "  + Space complexity: lưu frontier bằng priority queue, O(b^m).\n",
    "\n",
    "- A* Search:\n",
    "  + Complete: có, nếu heuristic là admissible (không vượt quá chi phí thật).\n",
    "  + Optimal: có, nếu heuristic admissible và consistent.\n",
    "  + Time complexity: O(b^d) trong trường hợp tốt nhất, nhưng xấu hơn khi heuristic kém.\n",
    "  + Space complexity: cũng O(b^d), cần lưu frontier và chi phí g.\n",
    "\n",
    "- So sánh:\n",
    "  + Greedy nhanh hơn, ít mở rộng hơn nhưng không đảm bảo tối ưu.\n",
    "  + A* chậm hơn, tốn bộ nhớ nhưng đảm bảo lời giải tối ưu.\n"
   ]
  },
  {
   "cell_type": "markdown",
   "metadata": {},
   "source": [
    "## Task 4: Comparison and discussion [20 Points] \n",
    "\n",
    "Run experiments to compare the implemented algorithms.\n",
    "\n",
    "How to deal with issues:\n",
    "\n",
    "* Your implementation returns unexpected results: Try to debug and fix the code. Visualizing the maze, the current path and the frontier after every step is very helpful. If the code still does not work, then mark the result with an asterisk (*) and describe the issue below the table.\n",
    "\n",
    "* Your implementation cannot consistently solve a specific maze and ends up in an infinite loop:\n",
    "    Debug (likely your frontier and cycle checking for DFS are the issue). If it is a shortcoming of the algorithm/implementation, then put \"N/A*\" in the results table and describe why this is happening."
   ]
  },
  {
   "cell_type": "code",
   "execution_count": 17,
   "metadata": {},
   "outputs": [],
   "source": [
    "# Add code\n",
    "import heapq\n",
    "from collections import deque\n",
    "\n",
    "# ==== BFS with stats ====\n",
    "def bfs_stats(start, goal, successors):\n",
    "    frontier = deque([start])\n",
    "    parent = {start: None}\n",
    "    reached = {start}\n",
    "\n",
    "    nodes_expanded = 0\n",
    "    max_frontier_size = 1\n",
    "    max_depth = 0\n",
    "    max_nodes_in_memory = 1\n",
    "\n",
    "    while frontier:\n",
    "        state = frontier.popleft()\n",
    "        nodes_expanded += 1\n",
    "\n",
    "        # depth\n",
    "        depth = 0\n",
    "        cur = state\n",
    "        while parent[cur] is not None:\n",
    "            cur = parent[cur]\n",
    "            depth += 1\n",
    "        max_depth = max(max_depth, depth)\n",
    "\n",
    "        if state == goal:\n",
    "            path = []\n",
    "            while state is not None:\n",
    "                path.append(state)\n",
    "                state = parent[state]\n",
    "            path = list(reversed(path))\n",
    "            return {\n",
    "                \"path_cost\": len(path),\n",
    "                \"nodes_expanded\": nodes_expanded,\n",
    "                \"max_tree_depth\": max_depth,\n",
    "                \"max_nodes_in_memory\": max_nodes_in_memory,\n",
    "                \"max_frontier_size\": max_frontier_size\n",
    "            }\n",
    "\n",
    "        for child in successors(state):\n",
    "            if child not in reached:\n",
    "                reached.add(child)\n",
    "                parent[child] = state\n",
    "                frontier.append(child)\n",
    "\n",
    "        max_frontier_size = max(max_frontier_size, len(frontier))\n",
    "        max_nodes_in_memory = max(max_nodes_in_memory, len(frontier) + len(reached))\n",
    "\n",
    "    return None\n",
    "\n",
    "\n",
    "# ==== DFS with stats ====\n",
    "def dfs_stats(start, goal, successors):\n",
    "    stack = [(start, [start])]\n",
    "    nodes_expanded = 0\n",
    "    max_frontier_size = 1\n",
    "    max_depth = 0\n",
    "    max_nodes_in_memory = 1\n",
    "\n",
    "    visited_in_path = set()\n",
    "\n",
    "    while stack:\n",
    "        state, path = stack.pop()\n",
    "        nodes_expanded += 1\n",
    "        max_depth = max(max_depth, len(path))\n",
    "\n",
    "        if state == goal:\n",
    "            return {\n",
    "                \"path_cost\": len(path),\n",
    "                \"nodes_expanded\": nodes_expanded,\n",
    "                \"max_tree_depth\": max_depth,\n",
    "                \"max_nodes_in_memory\": max_nodes_in_memory,\n",
    "                \"max_frontier_size\": max_frontier_size\n",
    "            }\n",
    "\n",
    "        if state in visited_in_path:\n",
    "            continue\n",
    "        visited_in_path.add(state)\n",
    "\n",
    "        for child in successors(state):\n",
    "            if child not in path:  # cycle check\n",
    "                stack.append((child, path + [child]))\n",
    "\n",
    "        max_frontier_size = max(max_frontier_size, len(stack))\n",
    "        max_nodes_in_memory = max(max_nodes_in_memory, len(stack) + len(visited_in_path))\n",
    "\n",
    "    return None\n",
    "\n",
    "\n",
    "# ==== Greedy Best-First Search with stats ====\n",
    "def greedy_stats(start, goal, successors):\n",
    "    frontier = []\n",
    "    heapq.heappush(frontier, (manhattan_distance(start, goal), start, [start]))\n",
    "    reached = {start}\n",
    "\n",
    "    nodes_expanded = 0\n",
    "    max_frontier_size = 1\n",
    "    max_depth = 0\n",
    "    max_nodes_in_memory = 1\n",
    "\n",
    "    while frontier:\n",
    "        _, state, path = heapq.heappop(frontier)\n",
    "        nodes_expanded += 1\n",
    "        max_depth = max(max_depth, len(path))\n",
    "\n",
    "        if state == goal:\n",
    "            return {\n",
    "                \"path_cost\": len(path),\n",
    "                \"nodes_expanded\": nodes_expanded,\n",
    "                \"max_tree_depth\": max_depth,\n",
    "                \"max_nodes_in_memory\": max_nodes_in_memory,\n",
    "                \"max_frontier_size\": max_frontier_size\n",
    "            }\n",
    "\n",
    "        for child in successors(state):\n",
    "            if child not in reached:\n",
    "                reached.add(child)\n",
    "                heapq.heappush(frontier, (manhattan_distance(child, goal), child, path + [child]))\n",
    "\n",
    "        max_frontier_size = max(max_frontier_size, len(frontier))\n",
    "        max_nodes_in_memory = max(max_nodes_in_memory, len(frontier) + len(reached))\n",
    "\n",
    "    return None\n",
    "\n",
    "\n",
    "# ==== A* Search with stats ====\n",
    "def astar_stats(start, goal, successors):\n",
    "    frontier = []\n",
    "    heapq.heappush(frontier, (manhattan_distance(start, goal), 0, start, [start]))\n",
    "    g_cost = {start: 0}\n",
    "\n",
    "    nodes_expanded = 0\n",
    "    max_frontier_size = 1\n",
    "    max_depth = 0\n",
    "    max_nodes_in_memory = 1\n",
    "\n",
    "    while frontier:\n",
    "        f, g, state, path = heapq.heappop(frontier)\n",
    "        nodes_expanded += 1\n",
    "        max_depth = max(max_depth, len(path))\n",
    "\n",
    "        if state == goal:\n",
    "            return {\n",
    "                \"path_cost\": len(path),\n",
    "                \"nodes_expanded\": nodes_expanded,\n",
    "                \"max_tree_depth\": max_depth,\n",
    "                \"max_nodes_in_memory\": max_nodes_in_memory,\n",
    "                \"max_frontier_size\": max_frontier_size\n",
    "            }\n",
    "\n",
    "        for child in successors(state):\n",
    "            new_g = g + 1\n",
    "            if child not in g_cost or new_g < g_cost[child]:\n",
    "                g_cost[child] = new_g\n",
    "                new_f = new_g + manhattan_distance(child, goal)\n",
    "                heapq.heappush(frontier, (new_f, new_g, child, path + [child]))\n",
    "\n",
    "        max_frontier_size = max(max_frontier_size, len(frontier))\n",
    "        max_nodes_in_memory = max(max_nodes_in_memory, len(frontier) + len(g_cost))\n",
    "\n",
    "    return None\n"
   ]
  },
  {
   "cell_type": "code",
   "execution_count": 18,
   "metadata": {},
   "outputs": [
    {
     "name": "stdout",
     "output_type": "stream",
     "text": [
      "     path_cost  nodes_expanded  max_tree_depth  max_nodes_in_memory  \\\n",
      "BFS         20              93              19                   96   \n",
      "DFS         50              74              50                   79   \n",
      "GBS         30              40              30                   49   \n",
      "A*          20              54              20                   65   \n",
      "\n",
      "     max_frontier_size  \n",
      "BFS                  9  \n",
      "DFS                  7  \n",
      "GBS                  5  \n",
      "A*                   8  \n"
     ]
    }
   ],
   "source": [
    "def run_all_algorithms(maze, start, goal):\n",
    "    return {\n",
    "        \"BFS\": bfs_stats(start, goal, lambda s: get_neighbors(s, maze)),\n",
    "        \"DFS\": dfs_stats(start, goal, lambda s: get_neighbors(s, maze)),\n",
    "        \"GBS\": greedy_stats(start, goal, lambda s: get_neighbors(s, maze)),\n",
    "        \"A*\": astar_stats(start, goal, lambda s: get_neighbors(s, maze)),\n",
    "    }\n",
    "\n",
    "# Ví dụ chạy trên small_maze\n",
    "with open(\"small_maze.txt\", \"r\") as f:\n",
    "    maze_str = f.read()\n",
    "maze = mh.parse_maze(maze_str)\n",
    "start = tuple(map(int, mh.find_pos(maze, \"S\")))\n",
    "goal = tuple(map(int, mh.find_pos(maze, \"G\")))\n",
    "\n",
    "results = run_all_algorithms(maze, start, goal)\n",
    "\n",
    "import pandas as pd\n",
    "df = pd.DataFrame(results).T\n",
    "print(df)\n"
   ]
  },
  {
   "cell_type": "markdown",
   "metadata": {},
   "source": [
    "Complete the following table for each maze.\n",
    "\n",
    "__Small maze__\n",
    "\n",
    "| algorithm | path cost | # of nodes expanded | max tree depth | max # of nodes in memory | max frontier size |\n",
    "|-----------|-----------|----------------|----------------|---------------|-------------------|\n",
    "| BFS       |           |                |                |               |                   |\n",
    "| DFS       |           |                |                |               |                   |\n",
    "| GBS       |           |                |                |               |                   |\n",
    "| A*        |           |                |                |               |                   |\n",
    "\n",
    "__Medium Maze__\n",
    "\n",
    "..."
   ]
  },
  {
   "cell_type": "markdown",
   "metadata": {},
   "source": [
    "Present the results as using charts (see [Python Code Examples/charts and tables](../HOWTOs/charts_and_tables.ipynb)). "
   ]
  },
  {
   "cell_type": "code",
   "execution_count": 19,
   "metadata": {},
   "outputs": [
    {
     "data": {
      "image/png": "[encoded data removed]",
      "text/plain": [
       "<Figure size 1200x500 with 2 Axes>"
      ]
     },
     "metadata": {
      "image/png": {
       "height": 493,
       "width": 997
      }
     },
     "output_type": "display_data"
    }
   ],
   "source": [
    "# Add charts\n",
    "import matplotlib.pyplot as plt\n",
    "\n",
    "def plot_results(df, title=\"Comparison of Search Algorithms\"):\n",
    "    fig, axes = plt.subplots(1, 2, figsize=(12, 5))\n",
    "\n",
    "    # Vẽ path cost\n",
    "    df[\"path_cost\"].plot(kind=\"bar\", ax=axes[0], color=\"skyblue\")\n",
    "    axes[0].set_title(\"Path Cost\")\n",
    "    axes[0].set_ylabel(\"Cost\")\n",
    "\n",
    "    # Vẽ số node mở rộng\n",
    "    df[\"nodes_expanded\"].plot(kind=\"bar\", ax=axes[1], color=\"orange\")\n",
    "    axes[1].set_title(\"Nodes Expanded\")\n",
    "    axes[1].set_ylabel(\"Count\")\n",
    "\n",
    "    plt.suptitle(title)\n",
    "    plt.show()\n",
    "\n",
    "# Giả sử df là bảng kết quả bạn có từ run_all_algorithms\n",
    "plot_results(df, title=\"Small Maze\")\n"
   ]
  },
  {
   "cell_type": "markdown",
   "metadata": {},
   "source": [
    "Discuss the most important lessons you have learned from implementing the different search strategies. "
   ]
  },
  {
   "cell_type": "code",
   "execution_count": 93,
   "metadata": {},
   "outputs": [],
   "source": [
    "# Add discussion"
   ]
  },
  {
   "cell_type": "markdown",
   "metadata": {},
   "source": [
    "Discussion:\n",
    "\n",
    "- BFS luôn tìm được đường đi ngắn nhất nhưng rất tốn bộ nhớ.\n",
    "- DFS dùng ít bộ nhớ nhưng dễ bị kẹt ở nhánh sâu hoặc chu kỳ.\n",
    "- Greedy Best-First Search chạy nhanh, ít mở rộng node nhưng không đảm bảo tìm đường đi tối ưu.\n",
    "- A* Search kết hợp cost thực tế và heuristic nên vừa hoàn chỉnh vừa tối ưu, tuy nhiên vẫn tiêu tốn nhiều bộ nhớ.\n",
    "- Nhìn vào chart có thể thấy BFS và A* mở rộng nhiều node hơn DFS và Greedy, nhưng A* thường cho path cost ngắn nhất.\n"
   ]
  },
  {
   "cell_type": "markdown",
   "metadata": {},
   "source": [
    "## Advanced task: IDS and Multiple goals\n",
    "\n",
    "* __Graduate students__ need to complete this task [10 points]\n",
    "* __Undergraduate students__ can attempt this as a bonus task [max +5 bonus points].\n",
    "\n",
    "### IDS \n",
    "Implement IDS (iterative deepening search) using your DFS implementation. Test IDS on the mazes above. You may run into some issues with mazes with open spaces. If you cannot resolve the issues, then report and discuss what causes the problems."
   ]
  },
  {
   "cell_type": "code",
   "execution_count": 20,
   "metadata": {},
   "outputs": [
    {
     "name": "stdout",
     "output_type": "stream",
     "text": [
      "IDS path length: 20\n"
     ]
    }
   ],
   "source": [
    "# Your code/answer goes here\n",
    "def dls(state, goal, successors, limit, path):\n",
    "    if state == goal:\n",
    "        return path\n",
    "    if limit <= 0:\n",
    "        return None\n",
    "    for child in successors(state):\n",
    "        if child not in path:  # tránh cycle\n",
    "            result = dls(child, goal, successors, limit-1, path+[child])\n",
    "            if result is not None:\n",
    "                return result\n",
    "    return None\n",
    "\n",
    "def ids(start, goal, successors, max_depth=1000):\n",
    "    for depth in range(max_depth):\n",
    "        result = dls(start, goal, successors, depth, [start])\n",
    "        if result is not None:\n",
    "            return result\n",
    "    return None\n",
    "\n",
    "# Ví dụ chạy IDS\n",
    "path_ids = ids(start, goal, lambda s: get_neighbors(s, maze), max_depth=50)\n",
    "print(\"IDS path length:\", len(path_ids) if path_ids else None)\n"
   ]
  },
  {
   "cell_type": "markdown",
   "metadata": {},
   "source": [
    "### Multiple Goals \n",
    "Create a few mazes with multiple goals by adding one or two more goals to the medium size maze. The agent is done when it finds one of the goals.\n",
    "Solve the maze with your implementations for DFS, BFS, and IDS. Run experiments to show which implementations find the optimal solution and which do not. Discuss why that is the case."
   ]
  },
  {
   "cell_type": "code",
   "execution_count": 21,
   "metadata": {},
   "outputs": [
    {
     "name": "stdout",
     "output_type": "stream",
     "text": [
      "Path length: 20\n"
     ]
    }
   ],
   "source": [
    "# Your code/answer goes here\n",
    "def bfs_multi(start, goals, successors):\n",
    "    from collections import deque\n",
    "    frontier = deque([start])\n",
    "    parent = {start: None}\n",
    "    reached = {start}\n",
    "\n",
    "    while frontier:\n",
    "        state = frontier.popleft()\n",
    "        if state in goals:\n",
    "            # reconstruct path\n",
    "            path = []\n",
    "            while state is not None:\n",
    "                path.append(state)\n",
    "                state = parent[state]\n",
    "            return list(reversed(path))\n",
    "\n",
    "        for child in successors(state):\n",
    "            if child not in reached:\n",
    "                reached.add(child)\n",
    "                parent[child] = state\n",
    "                frontier.append(child)\n",
    "    return None\n",
    "\n",
    "# Ví dụ:\n",
    "goals = {tuple(map(int, mh.find_pos(maze, \"G\"))), (5, 5)}  # nhiều goal\n",
    "path = bfs_multi(start, goals, lambda s: get_neighbors(s, maze))\n",
    "print(\"Path length:\", len(path) if path else None)\n"
   ]
  },
  {
   "cell_type": "markdown",
   "metadata": {},
   "source": [
    "## More Advanced Problems to Think About (not for credit)\n",
    "\n",
    "If the assignment was to easy for yuo then you can think about the following problems. These problems are challenging and not part of this assignment. \n",
    "\n",
    "### Intersection as States\n",
    "Instead of defining each square as a state, use only intersections as states. Now the storage requirement is reduced, but the path length between two intersections can be different. If we use total path length measured as the number of squares as path cost, how can we make sure that BFS and iterative deepening search is optimal? Change the code to do so."
   ]
  },
  {
   "cell_type": "code",
   "execution_count": 23,
   "metadata": {},
   "outputs": [
    {
     "name": "stdout",
     "output_type": "stream",
     "text": [
      "{(1, 1): {}, (1, 13): {(3, 13): 2}, (1, 15): {}, (3, 11): {(3, 13): 2}, (3, 13): {(5, 13): 2, (1, 13): 2, (3, 11): 2}, (3, 15): {(3, 16): 1}, (3, 16): {(5, 16): 2, (3, 15): 1}, (4, 4): {}, (5, 12): {(7, 12): 2, (5, 13): 1}, (5, 13): {(3, 13): 2, (5, 16): 3, (5, 12): 1}, (5, 16): {(3, 16): 2, (5, 13): 3}, (6, 6): {}, (7, 12): {(5, 12): 2}, (8, 1): {}}\n"
     ]
    }
   ],
   "source": [
    "# Your code/answer goes here\n",
    "def is_intersection(maze, x, y):\n",
    "    if maze[x, y] == \"X\":\n",
    "        return False\n",
    "    moves = [(1,0), (-1,0), (0,1), (0,-1)]\n",
    "    count = 0\n",
    "    for dx, dy in moves:\n",
    "        nx, ny = x+dx, y+dy\n",
    "        if 0 <= nx < maze.shape[0] and 0 <= ny < maze.shape[1]:\n",
    "            if maze[nx, ny] != \"X\":\n",
    "                count += 1\n",
    "    return count != 2  # ngõ cụt, ngã ba, ngã tư, hoặc start/goal\n",
    "\n",
    "def build_intersection_graph(maze, start, goal):\n",
    "    intersections = []\n",
    "    for i in range(maze.shape[0]):\n",
    "        for j in range(maze.shape[1]):\n",
    "            if is_intersection(maze, i, j) or (i,j) in [start, goal]:\n",
    "                intersections.append((i,j))\n",
    "\n",
    "    graph = {node: {} for node in intersections}\n",
    "    directions = [(1,0), (-1,0), (0,1), (0,-1)]\n",
    "\n",
    "    for node in intersections:\n",
    "        for dx, dy in directions:\n",
    "            path = []\n",
    "            x, y = node\n",
    "            steps = 0\n",
    "            while True:\n",
    "                x, y = x+dx, y+dy\n",
    "                if not (0 <= x < maze.shape[0] and 0 <= y < maze.shape[1]):\n",
    "                    break\n",
    "                if maze[x, y] == \"X\":\n",
    "                    break\n",
    "                steps += 1\n",
    "                if (x, y) in intersections:\n",
    "                    graph[node][(x,y)] = steps\n",
    "                    break\n",
    "    return graph\n",
    "\n",
    "# Ví dụ chạy\n",
    "graph = build_intersection_graph(maze, start, goal)\n",
    "print(graph)\n"
   ]
  },
  {
   "cell_type": "markdown",
   "metadata": {},
   "source": [
    "### Intersection as States\n",
    "\n",
    "- Thay vì coi mỗi ô trong mê cung là một state, ta chỉ coi **các ngã ba, ngõ cụt và goal/start** là state.\n",
    "- Giữa các intersection, ta coi hành lang là một cạnh (edge) có trọng số bằng số ô đi qua.\n",
    "\n",
    "- Ưu điểm:\n",
    "  + Giảm rất nhiều số lượng state → tiết kiệm bộ nhớ.\n",
    "  + Tìm kiếm nhanh hơn trên đồ thị nhỏ gọn.\n",
    "\n",
    "- Vấn đề:\n",
    "  + Đường đi giữa các intersection có chi phí khác nhau, nên cần gán **path cost chính xác** theo độ dài hành lang.\n",
    "  + Nếu chỉ dùng BFS theo số bước \"giữa intersection\" thì không còn tối ưu.\n",
    "  + Để vẫn đảm bảo optimal:\n",
    "    * BFS phải dùng với chi phí đồng nhất trên cạnh (nếu coi mỗi bước đi trong hành lang là 1 cost).\n",
    "    * Hoặc dùng **Uniform Cost Search** (Dijkstra/A\\*) với trọng số thật.\n",
    "\n",
    "- Kết luận: \n",
    "  + Dùng intersection làm state giúp tiết kiệm tài nguyên.\n",
    "  + Nhưng để vẫn tối ưu, BFS thường không còn đủ, thay vào đó nên dùng Uniform Cost Search hoặc A* với chi phí thực.\n"
   ]
  },
  {
   "cell_type": "markdown",
   "metadata": {},
   "source": [
    "### Weighted A* search\n",
    "Modify your A* search to add weights (see text book) and explore how different weights influence the result."
   ]
  },
  {
   "cell_type": "code",
   "execution_count": 22,
   "metadata": {},
   "outputs": [
    {
     "name": "stdout",
     "output_type": "stream",
     "text": [
      "Weighted A* path length: 20\n"
     ]
    }
   ],
   "source": [
    "# Your code/answer goes here\n",
    "def weighted_astar(start, goal, successors, w=2):\n",
    "    frontier = []\n",
    "    heapq.heappush(frontier, (manhattan_distance(start, goal)*w, 0, start, [start]))\n",
    "    g_cost = {start: 0}\n",
    "\n",
    "    while frontier:\n",
    "        f, g, state, path = heapq.heappop(frontier)\n",
    "        if state == goal:\n",
    "            return path\n",
    "\n",
    "        for child in successors(state):\n",
    "            new_g = g + 1\n",
    "            if child not in g_cost or new_g < g_cost[child]:\n",
    "                g_cost[child] = new_g\n",
    "                new_f = new_g + w * manhattan_distance(child, goal)\n",
    "                heapq.heappush(frontier, (new_f, new_g, child, path + [child]))\n",
    "    return None\n",
    "\n",
    "# Thử chạy\n",
    "path_wastar = weighted_astar(start, goal, lambda s: get_neighbors(s, maze), w=2)\n",
    "print(\"Weighted A* path length:\", len(path_wastar))\n"
   ]
  },
  {
   "cell_type": "markdown",
   "metadata": {},
   "source": [
    "### Unknown Maze\n",
    "What happens if the agent does not know the layout of the maze in advance? This means that the agent faces an unknown environment, where it does not know the transition function. How does the environment look then (PEAS description)? How would you implement a rational agent to solve the maze? What if the agent still has a GPS device to tell the distance to the goal?"
   ]
  },
  {
   "cell_type": "code",
   "execution_count": 98,
   "metadata": {},
   "outputs": [],
   "source": [
    "# Your code/answer goes here"
   ]
  },
  {
   "cell_type": "markdown",
   "metadata": {},
   "source": [
    "Khi agent không biết trước bản đồ mê cung thì agent đang ở trong môi trường chưa biết (unknown environment). Điều này có nghĩa là nó không biết luật chuyển trạng thái (transition function) mà phải vừa đi vừa khám phá.\n",
    "\n",
    "PEAS:\n",
    "\n",
    "Performance: tìm được goal nhanh, chi phí ít.\n",
    "\n",
    "Environment: mê cung chưa biết trước.\n",
    "\n",
    "Actuators: di chuyển lên, xuống, trái, phải.\n",
    "\n",
    "Sensors: biết được tình trạng các ô lân cận sau khi di chuyển, nếu có GPS thì biết khoảng cách đến goal.\n",
    "\n",
    "Cách xây dựng agent hợp lý:\n",
    "\n",
    "Agent sẽ vừa đi vừa xây dựng lại bản đồ đã khám phá.\n",
    "\n",
    "Có thể dùng thuật toán Online DFS hoặc LRTA* để vừa khám phá vừa tìm đường.\n",
    "\n",
    "Nếu có GPS báo khoảng cách thì agent dùng nó như heuristic để hướng đi.\n",
    "\n",
    "Agent cần lưu lại các ô đã đi để tránh vòng lặp."
   ]
  }
 ],
 "metadata": {
  "kernelspec": {
   "display_name": "Python 3",
   "language": "python",
   "name": "python3"
  },
  "language_info": {
   "codemirror_mode": {
    "name": "ipython",
    "version": 3
   },
   "file_extension": ".py",
   "mimetype": "text/x-python",
   "name": "python",
   "nbconvert_exporter": "python",
   "pygments_lexer": "ipython3",
   "version": "3.13.0"
  }
 },
 "nbformat": 4,
 "nbformat_minor": 4
}
